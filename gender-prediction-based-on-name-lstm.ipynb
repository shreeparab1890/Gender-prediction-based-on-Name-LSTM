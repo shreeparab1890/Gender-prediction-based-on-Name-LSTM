{
 "cells": [
  {
   "cell_type": "code",
   "execution_count": 1,
   "id": "079ee4c2",
   "metadata": {
    "_cell_guid": "b1076dfc-b9ad-4769-8c92-a6c4dae69d19",
    "_uuid": "8f2839f25d086af736a60e9eeb907d3b93b6e0e5",
    "execution": {
     "iopub.execute_input": "2022-12-25T14:53:42.602702Z",
     "iopub.status.busy": "2022-12-25T14:53:42.601319Z",
     "iopub.status.idle": "2022-12-25T14:53:46.254921Z",
     "shell.execute_reply": "2022-12-25T14:53:46.253340Z"
    },
    "papermill": {
     "duration": 3.671188,
     "end_time": "2022-12-25T14:53:46.258135",
     "exception": false,
     "start_time": "2022-12-25T14:53:42.586947",
     "status": "completed"
    },
    "tags": []
   },
   "outputs": [],
   "source": [
    "import torch\n",
    "import torch.nn as nn\n",
    "from torchtext.vocab import vocab\n",
    "from torchvision import transforms, utils\n",
    "from torch.utils.data import Dataset, DataLoader\n",
    "\n",
    "import pandas as pd \n",
    "\n",
    "from collections import Counter\n",
    "\n",
    "from sklearn.metrics import f1_score\n",
    "from sklearn.metrics import accuracy_score\n",
    "from sklearn.metrics import  confusion_matrix\n"
   ]
  },
  {
   "cell_type": "code",
   "execution_count": 2,
   "id": "3b18d6a8",
   "metadata": {
    "execution": {
     "iopub.execute_input": "2022-12-25T14:53:46.284563Z",
     "iopub.status.busy": "2022-12-25T14:53:46.283704Z",
     "iopub.status.idle": "2022-12-25T14:53:46.611450Z",
     "shell.execute_reply": "2022-12-25T14:53:46.610377Z"
    },
    "papermill": {
     "duration": 0.345047,
     "end_time": "2022-12-25T14:53:46.614191",
     "exception": false,
     "start_time": "2022-12-25T14:53:46.269144",
     "status": "completed"
    },
    "tags": []
   },
   "outputs": [],
   "source": [
    "males_names_data =pd.read_csv(r'https://gist.githubusercontent.com/mbejda/7f86ca901fe41bc14a63/raw/38adb475c14a3f44df9999c1541f3a72f472b30d/Indian-Male-Names.csv')\n"
   ]
  },
  {
   "cell_type": "code",
   "execution_count": 3,
   "id": "fc1411c2",
   "metadata": {
    "execution": {
     "iopub.execute_input": "2022-12-25T14:53:46.639442Z",
     "iopub.status.busy": "2022-12-25T14:53:46.637869Z",
     "iopub.status.idle": "2022-12-25T14:53:46.670502Z",
     "shell.execute_reply": "2022-12-25T14:53:46.668985Z"
    },
    "papermill": {
     "duration": 0.048926,
     "end_time": "2022-12-25T14:53:46.673902",
     "exception": false,
     "start_time": "2022-12-25T14:53:46.624976",
     "status": "completed"
    },
    "tags": []
   },
   "outputs": [
    {
     "name": "stdout",
     "output_type": "stream",
     "text": [
      "<class 'pandas.core.frame.DataFrame'>\n",
      "RangeIndex: 14845 entries, 0 to 14844\n",
      "Data columns (total 3 columns):\n",
      " #   Column  Non-Null Count  Dtype \n",
      "---  ------  --------------  ----- \n",
      " 0   name    14821 non-null  object\n",
      " 1   gender  14845 non-null  object\n",
      " 2   race    14845 non-null  object\n",
      "dtypes: object(3)\n",
      "memory usage: 348.1+ KB\n"
     ]
    }
   ],
   "source": [
    "males_names_data.info()"
   ]
  },
  {
   "cell_type": "code",
   "execution_count": 4,
   "id": "07ec6339",
   "metadata": {
    "execution": {
     "iopub.execute_input": "2022-12-25T14:53:46.699788Z",
     "iopub.status.busy": "2022-12-25T14:53:46.698358Z",
     "iopub.status.idle": "2022-12-25T14:53:46.719316Z",
     "shell.execute_reply": "2022-12-25T14:53:46.718037Z"
    },
    "papermill": {
     "duration": 0.037102,
     "end_time": "2022-12-25T14:53:46.722372",
     "exception": false,
     "start_time": "2022-12-25T14:53:46.685270",
     "status": "completed"
    },
    "tags": []
   },
   "outputs": [
    {
     "data": {
      "text/html": [
       "<div>\n",
       "<style scoped>\n",
       "    .dataframe tbody tr th:only-of-type {\n",
       "        vertical-align: middle;\n",
       "    }\n",
       "\n",
       "    .dataframe tbody tr th {\n",
       "        vertical-align: top;\n",
       "    }\n",
       "\n",
       "    .dataframe thead th {\n",
       "        text-align: right;\n",
       "    }\n",
       "</style>\n",
       "<table border=\"1\" class=\"dataframe\">\n",
       "  <thead>\n",
       "    <tr style=\"text-align: right;\">\n",
       "      <th></th>\n",
       "      <th>name</th>\n",
       "      <th>gender</th>\n",
       "      <th>race</th>\n",
       "    </tr>\n",
       "  </thead>\n",
       "  <tbody>\n",
       "    <tr>\n",
       "      <th>0</th>\n",
       "      <td>barjraj</td>\n",
       "      <td>m</td>\n",
       "      <td>indian</td>\n",
       "    </tr>\n",
       "    <tr>\n",
       "      <th>1</th>\n",
       "      <td>ramdin verma</td>\n",
       "      <td>m</td>\n",
       "      <td>indian</td>\n",
       "    </tr>\n",
       "    <tr>\n",
       "      <th>2</th>\n",
       "      <td>sharat chandran</td>\n",
       "      <td>m</td>\n",
       "      <td>indian</td>\n",
       "    </tr>\n",
       "    <tr>\n",
       "      <th>3</th>\n",
       "      <td>birender mandal</td>\n",
       "      <td>m</td>\n",
       "      <td>indian</td>\n",
       "    </tr>\n",
       "    <tr>\n",
       "      <th>4</th>\n",
       "      <td>amit</td>\n",
       "      <td>m</td>\n",
       "      <td>indian</td>\n",
       "    </tr>\n",
       "  </tbody>\n",
       "</table>\n",
       "</div>"
      ],
      "text/plain": [
       "              name gender    race\n",
       "0          barjraj      m  indian\n",
       "1     ramdin verma      m  indian\n",
       "2  sharat chandran      m  indian\n",
       "3  birender mandal      m  indian\n",
       "4             amit      m  indian"
      ]
     },
     "execution_count": 4,
     "metadata": {},
     "output_type": "execute_result"
    }
   ],
   "source": [
    "males_names_data.head()"
   ]
  },
  {
   "cell_type": "code",
   "execution_count": 5,
   "id": "437cf899",
   "metadata": {
    "execution": {
     "iopub.execute_input": "2022-12-25T14:53:46.747442Z",
     "iopub.status.busy": "2022-12-25T14:53:46.746263Z",
     "iopub.status.idle": "2022-12-25T14:53:46.751030Z",
     "shell.execute_reply": "2022-12-25T14:53:46.750138Z"
    },
    "papermill": {
     "duration": 0.019636,
     "end_time": "2022-12-25T14:53:46.753512",
     "exception": false,
     "start_time": "2022-12-25T14:53:46.733876",
     "status": "completed"
    },
    "tags": []
   },
   "outputs": [],
   "source": [
    "#males_names_data.nunique()"
   ]
  },
  {
   "cell_type": "code",
   "execution_count": 6,
   "id": "84af9399",
   "metadata": {
    "execution": {
     "iopub.execute_input": "2022-12-25T14:53:46.778097Z",
     "iopub.status.busy": "2022-12-25T14:53:46.777108Z",
     "iopub.status.idle": "2022-12-25T14:53:46.781782Z",
     "shell.execute_reply": "2022-12-25T14:53:46.780835Z"
    },
    "papermill": {
     "duration": 0.019693,
     "end_time": "2022-12-25T14:53:46.784254",
     "exception": false,
     "start_time": "2022-12-25T14:53:46.764561",
     "status": "completed"
    },
    "tags": []
   },
   "outputs": [],
   "source": [
    "#males_names_data = males_names_data.drop_duplicates()"
   ]
  },
  {
   "cell_type": "code",
   "execution_count": 7,
   "id": "faf23f67",
   "metadata": {
    "execution": {
     "iopub.execute_input": "2022-12-25T14:53:46.809396Z",
     "iopub.status.busy": "2022-12-25T14:53:46.808950Z",
     "iopub.status.idle": "2022-12-25T14:53:46.813881Z",
     "shell.execute_reply": "2022-12-25T14:53:46.812393Z"
    },
    "papermill": {
     "duration": 0.020201,
     "end_time": "2022-12-25T14:53:46.816406",
     "exception": false,
     "start_time": "2022-12-25T14:53:46.796205",
     "status": "completed"
    },
    "tags": []
   },
   "outputs": [],
   "source": [
    "#males_names_data = males_names_data.reset_index()"
   ]
  },
  {
   "cell_type": "code",
   "execution_count": 8,
   "id": "ce480725",
   "metadata": {
    "execution": {
     "iopub.execute_input": "2022-12-25T14:53:46.841001Z",
     "iopub.status.busy": "2022-12-25T14:53:46.839832Z",
     "iopub.status.idle": "2022-12-25T14:53:46.845383Z",
     "shell.execute_reply": "2022-12-25T14:53:46.844163Z"
    },
    "papermill": {
     "duration": 0.020607,
     "end_time": "2022-12-25T14:53:46.848082",
     "exception": false,
     "start_time": "2022-12-25T14:53:46.827475",
     "status": "completed"
    },
    "tags": []
   },
   "outputs": [],
   "source": [
    "#males_names_data = males_names_data.drop('index', axis=1)"
   ]
  },
  {
   "cell_type": "code",
   "execution_count": 9,
   "id": "de2b7307",
   "metadata": {
    "execution": {
     "iopub.execute_input": "2022-12-25T14:53:46.872691Z",
     "iopub.status.busy": "2022-12-25T14:53:46.872258Z",
     "iopub.status.idle": "2022-12-25T14:53:46.876977Z",
     "shell.execute_reply": "2022-12-25T14:53:46.875797Z"
    },
    "papermill": {
     "duration": 0.019864,
     "end_time": "2022-12-25T14:53:46.879460",
     "exception": false,
     "start_time": "2022-12-25T14:53:46.859596",
     "status": "completed"
    },
    "tags": []
   },
   "outputs": [],
   "source": [
    "#males_names_data.head()"
   ]
  },
  {
   "cell_type": "code",
   "execution_count": 10,
   "id": "71bbaf87",
   "metadata": {
    "execution": {
     "iopub.execute_input": "2022-12-25T14:53:46.904022Z",
     "iopub.status.busy": "2022-12-25T14:53:46.903282Z",
     "iopub.status.idle": "2022-12-25T14:53:46.907612Z",
     "shell.execute_reply": "2022-12-25T14:53:46.906554Z"
    },
    "papermill": {
     "duration": 0.019849,
     "end_time": "2022-12-25T14:53:46.910393",
     "exception": false,
     "start_time": "2022-12-25T14:53:46.890544",
     "status": "completed"
    },
    "tags": []
   },
   "outputs": [],
   "source": [
    "#males_names_data.info()"
   ]
  },
  {
   "cell_type": "code",
   "execution_count": null,
   "id": "a6ead1cb",
   "metadata": {
    "papermill": {
     "duration": 0.01086,
     "end_time": "2022-12-25T14:53:46.932959",
     "exception": false,
     "start_time": "2022-12-25T14:53:46.922099",
     "status": "completed"
    },
    "tags": []
   },
   "outputs": [],
   "source": []
  },
  {
   "cell_type": "code",
   "execution_count": 11,
   "id": "ae839149",
   "metadata": {
    "execution": {
     "iopub.execute_input": "2022-12-25T14:53:46.957414Z",
     "iopub.status.busy": "2022-12-25T14:53:46.956670Z",
     "iopub.status.idle": "2022-12-25T14:53:46.963465Z",
     "shell.execute_reply": "2022-12-25T14:53:46.962480Z"
    },
    "papermill": {
     "duration": 0.022364,
     "end_time": "2022-12-25T14:53:46.966261",
     "exception": false,
     "start_time": "2022-12-25T14:53:46.943897",
     "status": "completed"
    },
    "tags": []
   },
   "outputs": [],
   "source": [
    "def firstName(full_name):\n",
    "    stop_names = ['smt', 'smt.', 'kumari','kumari.','mohd', 'mohd.','km', 'km.','ku','ku.','md','md.','mr','mr.','miss',',miss.','mrs','mrs.']\n",
    "    try:\n",
    "        name = full_name.split(' ')[0]\n",
    "        if name in stop_names:\n",
    "            return full_name.split(' ')[1]\n",
    "        else:\n",
    "            return full_name.split(' ')[0]\n",
    "    except:\n",
    "        return full_name\n",
    "\n",
    "#males_names_data['name'] = males_names_data.apply(lambda row: firstName(row['name']), axis=1)"
   ]
  },
  {
   "cell_type": "code",
   "execution_count": 12,
   "id": "17ef9442",
   "metadata": {
    "execution": {
     "iopub.execute_input": "2022-12-25T14:53:46.992053Z",
     "iopub.status.busy": "2022-12-25T14:53:46.991309Z",
     "iopub.status.idle": "2022-12-25T14:53:46.995381Z",
     "shell.execute_reply": "2022-12-25T14:53:46.994567Z"
    },
    "papermill": {
     "duration": 0.019583,
     "end_time": "2022-12-25T14:53:46.997753",
     "exception": false,
     "start_time": "2022-12-25T14:53:46.978170",
     "status": "completed"
    },
    "tags": []
   },
   "outputs": [],
   "source": [
    "#males_names_data.head()"
   ]
  },
  {
   "cell_type": "code",
   "execution_count": 13,
   "id": "eabd3008",
   "metadata": {
    "execution": {
     "iopub.execute_input": "2022-12-25T14:53:47.022609Z",
     "iopub.status.busy": "2022-12-25T14:53:47.021770Z",
     "iopub.status.idle": "2022-12-25T14:53:47.026267Z",
     "shell.execute_reply": "2022-12-25T14:53:47.025354Z"
    },
    "papermill": {
     "duration": 0.01981,
     "end_time": "2022-12-25T14:53:47.028826",
     "exception": false,
     "start_time": "2022-12-25T14:53:47.009016",
     "status": "completed"
    },
    "tags": []
   },
   "outputs": [],
   "source": [
    "#males_names_data.info()"
   ]
  },
  {
   "cell_type": "code",
   "execution_count": 14,
   "id": "b2f8e6de",
   "metadata": {
    "execution": {
     "iopub.execute_input": "2022-12-25T14:53:47.053503Z",
     "iopub.status.busy": "2022-12-25T14:53:47.052735Z",
     "iopub.status.idle": "2022-12-25T14:53:47.345993Z",
     "shell.execute_reply": "2022-12-25T14:53:47.344635Z"
    },
    "papermill": {
     "duration": 0.309093,
     "end_time": "2022-12-25T14:53:47.349244",
     "exception": false,
     "start_time": "2022-12-25T14:53:47.040151",
     "status": "completed"
    },
    "tags": []
   },
   "outputs": [],
   "source": [
    "# Loading females names data:\n",
    "females_names_data =pd.read_csv(r'https://gist.githubusercontent.com/mbejda/9b93c7545c9dd93060bd/raw/b582593330765df3ccaae6f641f8cddc16f1e879/Indian-Female-Names.csv')"
   ]
  },
  {
   "cell_type": "code",
   "execution_count": 15,
   "id": "5a4006c5",
   "metadata": {
    "execution": {
     "iopub.execute_input": "2022-12-25T14:53:47.375328Z",
     "iopub.status.busy": "2022-12-25T14:53:47.374854Z",
     "iopub.status.idle": "2022-12-25T14:53:47.393082Z",
     "shell.execute_reply": "2022-12-25T14:53:47.390682Z"
    },
    "papermill": {
     "duration": 0.034991,
     "end_time": "2022-12-25T14:53:47.396146",
     "exception": false,
     "start_time": "2022-12-25T14:53:47.361155",
     "status": "completed"
    },
    "tags": []
   },
   "outputs": [
    {
     "name": "stdout",
     "output_type": "stream",
     "text": [
      "<class 'pandas.core.frame.DataFrame'>\n",
      "RangeIndex: 15382 entries, 0 to 15381\n",
      "Data columns (total 3 columns):\n",
      " #   Column  Non-Null Count  Dtype \n",
      "---  ------  --------------  ----- \n",
      " 0   name    15351 non-null  object\n",
      " 1   gender  15382 non-null  object\n",
      " 2   race    15382 non-null  object\n",
      "dtypes: object(3)\n",
      "memory usage: 360.6+ KB\n"
     ]
    }
   ],
   "source": [
    "females_names_data.info()"
   ]
  },
  {
   "cell_type": "code",
   "execution_count": 16,
   "id": "fc994c69",
   "metadata": {
    "execution": {
     "iopub.execute_input": "2022-12-25T14:53:47.421702Z",
     "iopub.status.busy": "2022-12-25T14:53:47.421184Z",
     "iopub.status.idle": "2022-12-25T14:53:47.434316Z",
     "shell.execute_reply": "2022-12-25T14:53:47.433073Z"
    },
    "papermill": {
     "duration": 0.030131,
     "end_time": "2022-12-25T14:53:47.437598",
     "exception": false,
     "start_time": "2022-12-25T14:53:47.407467",
     "status": "completed"
    },
    "tags": []
   },
   "outputs": [
    {
     "data": {
      "text/html": [
       "<div>\n",
       "<style scoped>\n",
       "    .dataframe tbody tr th:only-of-type {\n",
       "        vertical-align: middle;\n",
       "    }\n",
       "\n",
       "    .dataframe tbody tr th {\n",
       "        vertical-align: top;\n",
       "    }\n",
       "\n",
       "    .dataframe thead th {\n",
       "        text-align: right;\n",
       "    }\n",
       "</style>\n",
       "<table border=\"1\" class=\"dataframe\">\n",
       "  <thead>\n",
       "    <tr style=\"text-align: right;\">\n",
       "      <th></th>\n",
       "      <th>name</th>\n",
       "      <th>gender</th>\n",
       "      <th>race</th>\n",
       "    </tr>\n",
       "  </thead>\n",
       "  <tbody>\n",
       "    <tr>\n",
       "      <th>0</th>\n",
       "      <td>shivani</td>\n",
       "      <td>f</td>\n",
       "      <td>indian</td>\n",
       "    </tr>\n",
       "    <tr>\n",
       "      <th>1</th>\n",
       "      <td>isha</td>\n",
       "      <td>f</td>\n",
       "      <td>indian</td>\n",
       "    </tr>\n",
       "    <tr>\n",
       "      <th>2</th>\n",
       "      <td>smt shyani devi</td>\n",
       "      <td>f</td>\n",
       "      <td>indian</td>\n",
       "    </tr>\n",
       "    <tr>\n",
       "      <th>3</th>\n",
       "      <td>divya</td>\n",
       "      <td>f</td>\n",
       "      <td>indian</td>\n",
       "    </tr>\n",
       "    <tr>\n",
       "      <th>4</th>\n",
       "      <td>mansi</td>\n",
       "      <td>f</td>\n",
       "      <td>indian</td>\n",
       "    </tr>\n",
       "  </tbody>\n",
       "</table>\n",
       "</div>"
      ],
      "text/plain": [
       "              name gender    race\n",
       "0          shivani      f  indian\n",
       "1             isha      f  indian\n",
       "2  smt shyani devi      f  indian\n",
       "3            divya      f  indian\n",
       "4            mansi      f  indian"
      ]
     },
     "execution_count": 16,
     "metadata": {},
     "output_type": "execute_result"
    }
   ],
   "source": [
    "females_names_data.head()"
   ]
  },
  {
   "cell_type": "code",
   "execution_count": 17,
   "id": "60a80c15",
   "metadata": {
    "execution": {
     "iopub.execute_input": "2022-12-25T14:53:47.463387Z",
     "iopub.status.busy": "2022-12-25T14:53:47.462936Z",
     "iopub.status.idle": "2022-12-25T14:53:47.467874Z",
     "shell.execute_reply": "2022-12-25T14:53:47.466633Z"
    },
    "papermill": {
     "duration": 0.021027,
     "end_time": "2022-12-25T14:53:47.470564",
     "exception": false,
     "start_time": "2022-12-25T14:53:47.449537",
     "status": "completed"
    },
    "tags": []
   },
   "outputs": [],
   "source": [
    "#females_names_data = females_names_data.drop_duplicates()"
   ]
  },
  {
   "cell_type": "code",
   "execution_count": 18,
   "id": "1f1ebc95",
   "metadata": {
    "execution": {
     "iopub.execute_input": "2022-12-25T14:53:47.494998Z",
     "iopub.status.busy": "2022-12-25T14:53:47.494530Z",
     "iopub.status.idle": "2022-12-25T14:53:47.499651Z",
     "shell.execute_reply": "2022-12-25T14:53:47.498495Z"
    },
    "papermill": {
     "duration": 0.020432,
     "end_time": "2022-12-25T14:53:47.502318",
     "exception": false,
     "start_time": "2022-12-25T14:53:47.481886",
     "status": "completed"
    },
    "tags": []
   },
   "outputs": [],
   "source": [
    "#females_names_data['name'] = females_names_data.apply(lambda row: firstName(row['name']), axis=1)"
   ]
  },
  {
   "cell_type": "code",
   "execution_count": 19,
   "id": "ae4a132a",
   "metadata": {
    "execution": {
     "iopub.execute_input": "2022-12-25T14:53:47.527845Z",
     "iopub.status.busy": "2022-12-25T14:53:47.527448Z",
     "iopub.status.idle": "2022-12-25T14:53:47.531627Z",
     "shell.execute_reply": "2022-12-25T14:53:47.530494Z"
    },
    "papermill": {
     "duration": 0.020075,
     "end_time": "2022-12-25T14:53:47.534130",
     "exception": false,
     "start_time": "2022-12-25T14:53:47.514055",
     "status": "completed"
    },
    "tags": []
   },
   "outputs": [],
   "source": [
    "#females_names_data.info()"
   ]
  },
  {
   "cell_type": "code",
   "execution_count": 20,
   "id": "865dd5fd",
   "metadata": {
    "execution": {
     "iopub.execute_input": "2022-12-25T14:53:47.558821Z",
     "iopub.status.busy": "2022-12-25T14:53:47.558343Z",
     "iopub.status.idle": "2022-12-25T14:53:47.566511Z",
     "shell.execute_reply": "2022-12-25T14:53:47.564968Z"
    },
    "papermill": {
     "duration": 0.024245,
     "end_time": "2022-12-25T14:53:47.569843",
     "exception": false,
     "start_time": "2022-12-25T14:53:47.545598",
     "status": "completed"
    },
    "tags": []
   },
   "outputs": [],
   "source": [
    "# Lets merge both names and create new dataframe:\n",
    "data = males_names_data.append(females_names_data)"
   ]
  },
  {
   "cell_type": "code",
   "execution_count": 21,
   "id": "7e129341",
   "metadata": {
    "execution": {
     "iopub.execute_input": "2022-12-25T14:53:47.596396Z",
     "iopub.status.busy": "2022-12-25T14:53:47.595894Z",
     "iopub.status.idle": "2022-12-25T14:53:47.614192Z",
     "shell.execute_reply": "2022-12-25T14:53:47.611824Z"
    },
    "papermill": {
     "duration": 0.034421,
     "end_time": "2022-12-25T14:53:47.617189",
     "exception": false,
     "start_time": "2022-12-25T14:53:47.582768",
     "status": "completed"
    },
    "tags": []
   },
   "outputs": [
    {
     "name": "stdout",
     "output_type": "stream",
     "text": [
      "<class 'pandas.core.frame.DataFrame'>\n",
      "Int64Index: 30227 entries, 0 to 15381\n",
      "Data columns (total 3 columns):\n",
      " #   Column  Non-Null Count  Dtype \n",
      "---  ------  --------------  ----- \n",
      " 0   name    30172 non-null  object\n",
      " 1   gender  30227 non-null  object\n",
      " 2   race    30227 non-null  object\n",
      "dtypes: object(3)\n",
      "memory usage: 944.6+ KB\n"
     ]
    }
   ],
   "source": [
    "data.info()"
   ]
  },
  {
   "cell_type": "code",
   "execution_count": 22,
   "id": "6570ce38",
   "metadata": {
    "execution": {
     "iopub.execute_input": "2022-12-25T14:53:47.643151Z",
     "iopub.status.busy": "2022-12-25T14:53:47.642671Z",
     "iopub.status.idle": "2022-12-25T14:53:47.655530Z",
     "shell.execute_reply": "2022-12-25T14:53:47.653882Z"
    },
    "papermill": {
     "duration": 0.029723,
     "end_time": "2022-12-25T14:53:47.658891",
     "exception": false,
     "start_time": "2022-12-25T14:53:47.629168",
     "status": "completed"
    },
    "tags": []
   },
   "outputs": [
    {
     "data": {
      "text/html": [
       "<div>\n",
       "<style scoped>\n",
       "    .dataframe tbody tr th:only-of-type {\n",
       "        vertical-align: middle;\n",
       "    }\n",
       "\n",
       "    .dataframe tbody tr th {\n",
       "        vertical-align: top;\n",
       "    }\n",
       "\n",
       "    .dataframe thead th {\n",
       "        text-align: right;\n",
       "    }\n",
       "</style>\n",
       "<table border=\"1\" class=\"dataframe\">\n",
       "  <thead>\n",
       "    <tr style=\"text-align: right;\">\n",
       "      <th></th>\n",
       "      <th>name</th>\n",
       "      <th>gender</th>\n",
       "      <th>race</th>\n",
       "    </tr>\n",
       "  </thead>\n",
       "  <tbody>\n",
       "    <tr>\n",
       "      <th>0</th>\n",
       "      <td>barjraj</td>\n",
       "      <td>m</td>\n",
       "      <td>indian</td>\n",
       "    </tr>\n",
       "    <tr>\n",
       "      <th>1</th>\n",
       "      <td>ramdin verma</td>\n",
       "      <td>m</td>\n",
       "      <td>indian</td>\n",
       "    </tr>\n",
       "    <tr>\n",
       "      <th>2</th>\n",
       "      <td>sharat chandran</td>\n",
       "      <td>m</td>\n",
       "      <td>indian</td>\n",
       "    </tr>\n",
       "    <tr>\n",
       "      <th>3</th>\n",
       "      <td>birender mandal</td>\n",
       "      <td>m</td>\n",
       "      <td>indian</td>\n",
       "    </tr>\n",
       "    <tr>\n",
       "      <th>4</th>\n",
       "      <td>amit</td>\n",
       "      <td>m</td>\n",
       "      <td>indian</td>\n",
       "    </tr>\n",
       "  </tbody>\n",
       "</table>\n",
       "</div>"
      ],
      "text/plain": [
       "              name gender    race\n",
       "0          barjraj      m  indian\n",
       "1     ramdin verma      m  indian\n",
       "2  sharat chandran      m  indian\n",
       "3  birender mandal      m  indian\n",
       "4             amit      m  indian"
      ]
     },
     "execution_count": 22,
     "metadata": {},
     "output_type": "execute_result"
    }
   ],
   "source": [
    "data.head()"
   ]
  },
  {
   "cell_type": "code",
   "execution_count": 23,
   "id": "d83f2e43",
   "metadata": {
    "execution": {
     "iopub.execute_input": "2022-12-25T14:53:47.685129Z",
     "iopub.status.busy": "2022-12-25T14:53:47.684675Z",
     "iopub.status.idle": "2022-12-25T14:53:47.698750Z",
     "shell.execute_reply": "2022-12-25T14:53:47.697325Z"
    },
    "papermill": {
     "duration": 0.031448,
     "end_time": "2022-12-25T14:53:47.702193",
     "exception": false,
     "start_time": "2022-12-25T14:53:47.670745",
     "status": "completed"
    },
    "tags": []
   },
   "outputs": [
    {
     "data": {
      "text/html": [
       "<div>\n",
       "<style scoped>\n",
       "    .dataframe tbody tr th:only-of-type {\n",
       "        vertical-align: middle;\n",
       "    }\n",
       "\n",
       "    .dataframe tbody tr th {\n",
       "        vertical-align: top;\n",
       "    }\n",
       "\n",
       "    .dataframe thead th {\n",
       "        text-align: right;\n",
       "    }\n",
       "</style>\n",
       "<table border=\"1\" class=\"dataframe\">\n",
       "  <thead>\n",
       "    <tr style=\"text-align: right;\">\n",
       "      <th></th>\n",
       "      <th>name</th>\n",
       "      <th>gender</th>\n",
       "      <th>race</th>\n",
       "    </tr>\n",
       "  </thead>\n",
       "  <tbody>\n",
       "    <tr>\n",
       "      <th>15377</th>\n",
       "      <td>saroj devi</td>\n",
       "      <td>f</td>\n",
       "      <td>indian</td>\n",
       "    </tr>\n",
       "    <tr>\n",
       "      <th>15378</th>\n",
       "      <td>naina @ geeta</td>\n",
       "      <td>f</td>\n",
       "      <td>indian</td>\n",
       "    </tr>\n",
       "    <tr>\n",
       "      <th>15379</th>\n",
       "      <td>manju d/0 baboo lal jatav</td>\n",
       "      <td>f</td>\n",
       "      <td>indian</td>\n",
       "    </tr>\n",
       "    <tr>\n",
       "      <th>15380</th>\n",
       "      <td>shivani</td>\n",
       "      <td>f</td>\n",
       "      <td>indian</td>\n",
       "    </tr>\n",
       "    <tr>\n",
       "      <th>15381</th>\n",
       "      <td>nayna</td>\n",
       "      <td>f</td>\n",
       "      <td>indian</td>\n",
       "    </tr>\n",
       "  </tbody>\n",
       "</table>\n",
       "</div>"
      ],
      "text/plain": [
       "                            name gender    race\n",
       "15377                 saroj devi      f  indian\n",
       "15378              naina @ geeta      f  indian\n",
       "15379  manju d/0 baboo lal jatav      f  indian\n",
       "15380                    shivani      f  indian\n",
       "15381                      nayna      f  indian"
      ]
     },
     "execution_count": 23,
     "metadata": {},
     "output_type": "execute_result"
    }
   ],
   "source": [
    "data.tail()"
   ]
  },
  {
   "cell_type": "code",
   "execution_count": 24,
   "id": "66f9b1a2",
   "metadata": {
    "execution": {
     "iopub.execute_input": "2022-12-25T14:53:47.729994Z",
     "iopub.status.busy": "2022-12-25T14:53:47.729574Z",
     "iopub.status.idle": "2022-12-25T14:53:47.746477Z",
     "shell.execute_reply": "2022-12-25T14:53:47.744985Z"
    },
    "papermill": {
     "duration": 0.033652,
     "end_time": "2022-12-25T14:53:47.749856",
     "exception": false,
     "start_time": "2022-12-25T14:53:47.716204",
     "status": "completed"
    },
    "tags": []
   },
   "outputs": [
    {
     "data": {
      "text/plain": [
       "name      55\n",
       "gender     0\n",
       "race       0\n",
       "dtype: int64"
      ]
     },
     "execution_count": 24,
     "metadata": {},
     "output_type": "execute_result"
    }
   ],
   "source": [
    "data.isnull().sum()"
   ]
  },
  {
   "cell_type": "code",
   "execution_count": 25,
   "id": "6e18ad51",
   "metadata": {
    "execution": {
     "iopub.execute_input": "2022-12-25T14:53:47.778616Z",
     "iopub.status.busy": "2022-12-25T14:53:47.778176Z",
     "iopub.status.idle": "2022-12-25T14:53:47.793630Z",
     "shell.execute_reply": "2022-12-25T14:53:47.792223Z"
    },
    "papermill": {
     "duration": 0.034594,
     "end_time": "2022-12-25T14:53:47.797158",
     "exception": false,
     "start_time": "2022-12-25T14:53:47.762564",
     "status": "completed"
    },
    "tags": []
   },
   "outputs": [],
   "source": [
    "# Removing null values:\n",
    "data.dropna(inplace=True)"
   ]
  },
  {
   "cell_type": "code",
   "execution_count": 26,
   "id": "a76be2c2",
   "metadata": {
    "execution": {
     "iopub.execute_input": "2022-12-25T14:53:47.823507Z",
     "iopub.status.busy": "2022-12-25T14:53:47.823027Z",
     "iopub.status.idle": "2022-12-25T14:53:47.841361Z",
     "shell.execute_reply": "2022-12-25T14:53:47.840379Z"
    },
    "papermill": {
     "duration": 0.034843,
     "end_time": "2022-12-25T14:53:47.844311",
     "exception": false,
     "start_time": "2022-12-25T14:53:47.809468",
     "status": "completed"
    },
    "tags": []
   },
   "outputs": [
    {
     "name": "stdout",
     "output_type": "stream",
     "text": [
      "<class 'pandas.core.frame.DataFrame'>\n",
      "Int64Index: 30172 entries, 0 to 15381\n",
      "Data columns (total 3 columns):\n",
      " #   Column  Non-Null Count  Dtype \n",
      "---  ------  --------------  ----- \n",
      " 0   name    30172 non-null  object\n",
      " 1   gender  30172 non-null  object\n",
      " 2   race    30172 non-null  object\n",
      "dtypes: object(3)\n",
      "memory usage: 942.9+ KB\n"
     ]
    }
   ],
   "source": [
    "data.info()"
   ]
  },
  {
   "cell_type": "markdown",
   "id": "638f4a53",
   "metadata": {
    "papermill": {
     "duration": 0.013233,
     "end_time": "2022-12-25T14:53:47.871174",
     "exception": false,
     "start_time": "2022-12-25T14:53:47.857941",
     "status": "completed"
    },
    "tags": []
   },
   "source": [
    "**Data Analysis**"
   ]
  },
  {
   "cell_type": "code",
   "execution_count": 27,
   "id": "c9c12596",
   "metadata": {
    "execution": {
     "iopub.execute_input": "2022-12-25T14:53:47.897864Z",
     "iopub.status.busy": "2022-12-25T14:53:47.897382Z",
     "iopub.status.idle": "2022-12-25T14:53:50.711139Z",
     "shell.execute_reply": "2022-12-25T14:53:50.709931Z"
    },
    "papermill": {
     "duration": 2.829928,
     "end_time": "2022-12-25T14:53:50.713832",
     "exception": false,
     "start_time": "2022-12-25T14:53:47.883904",
     "status": "completed"
    },
    "tags": []
   },
   "outputs": [
    {
     "data": {
      "text/html": [
       "        <script type=\"text/javascript\">\n",
       "        window.PlotlyConfig = {MathJaxConfig: 'local'};\n",
       "        if (window.MathJax && window.MathJax.Hub && window.MathJax.Hub.Config) {window.MathJax.Hub.Config({SVG: {font: \"STIX-Web\"}});}\n",
       "        if (typeof require !== 'undefined') {\n",
       "        require.undef(\"plotly\");\n",
       "        requirejs.config({\n",
       "            paths: {\n",
       "                'plotly': ['https://cdn.plot.ly/plotly-2.14.0.min']\n",
       "            }\n",
       "        });\n",
       "        require(['plotly'], function(Plotly) {\n",
       "            window._Plotly = Plotly;\n",
       "        });\n",
       "        }\n",
       "        </script>\n",
       "        "
      ]
     },
     "metadata": {},
     "output_type": "display_data"
    },
    {
     "data": {
      "text/html": [
       "<div>                            <div id=\"853f9a77-c780-4635-a100-d5db068d690d\" class=\"plotly-graph-div\" style=\"height:525px; width:100%;\"></div>            <script type=\"text/javascript\">                require([\"plotly\"], function(Plotly) {                    window.PLOTLYENV=window.PLOTLYENV || {};                                    if (document.getElementById(\"853f9a77-c780-4635-a100-d5db068d690d\")) {                    Plotly.newPlot(                        \"853f9a77-c780-4635-a100-d5db068d690d\",                        [{\"domain\":{\"x\":[0.0,1.0],\"y\":[0.0,1.0]},\"hovertemplate\":\"label=%{label}<br>value=%{value}<extra></extra>\",\"labels\":[\"f\",\"m\"],\"legendgroup\":\"\",\"name\":\"\",\"showlegend\":true,\"values\":[15351,14821],\"type\":\"pie\"}],                        {\"template\":{\"data\":{\"histogram2dcontour\":[{\"type\":\"histogram2dcontour\",\"colorbar\":{\"outlinewidth\":0,\"ticks\":\"\"},\"colorscale\":[[0.0,\"#0d0887\"],[0.1111111111111111,\"#46039f\"],[0.2222222222222222,\"#7201a8\"],[0.3333333333333333,\"#9c179e\"],[0.4444444444444444,\"#bd3786\"],[0.5555555555555556,\"#d8576b\"],[0.6666666666666666,\"#ed7953\"],[0.7777777777777778,\"#fb9f3a\"],[0.8888888888888888,\"#fdca26\"],[1.0,\"#f0f921\"]]}],\"choropleth\":[{\"type\":\"choropleth\",\"colorbar\":{\"outlinewidth\":0,\"ticks\":\"\"}}],\"histogram2d\":[{\"type\":\"histogram2d\",\"colorbar\":{\"outlinewidth\":0,\"ticks\":\"\"},\"colorscale\":[[0.0,\"#0d0887\"],[0.1111111111111111,\"#46039f\"],[0.2222222222222222,\"#7201a8\"],[0.3333333333333333,\"#9c179e\"],[0.4444444444444444,\"#bd3786\"],[0.5555555555555556,\"#d8576b\"],[0.6666666666666666,\"#ed7953\"],[0.7777777777777778,\"#fb9f3a\"],[0.8888888888888888,\"#fdca26\"],[1.0,\"#f0f921\"]]}],\"heatmap\":[{\"type\":\"heatmap\",\"colorbar\":{\"outlinewidth\":0,\"ticks\":\"\"},\"colorscale\":[[0.0,\"#0d0887\"],[0.1111111111111111,\"#46039f\"],[0.2222222222222222,\"#7201a8\"],[0.3333333333333333,\"#9c179e\"],[0.4444444444444444,\"#bd3786\"],[0.5555555555555556,\"#d8576b\"],[0.6666666666666666,\"#ed7953\"],[0.7777777777777778,\"#fb9f3a\"],[0.8888888888888888,\"#fdca26\"],[1.0,\"#f0f921\"]]}],\"heatmapgl\":[{\"type\":\"heatmapgl\",\"colorbar\":{\"outlinewidth\":0,\"ticks\":\"\"},\"colorscale\":[[0.0,\"#0d0887\"],[0.1111111111111111,\"#46039f\"],[0.2222222222222222,\"#7201a8\"],[0.3333333333333333,\"#9c179e\"],[0.4444444444444444,\"#bd3786\"],[0.5555555555555556,\"#d8576b\"],[0.6666666666666666,\"#ed7953\"],[0.7777777777777778,\"#fb9f3a\"],[0.8888888888888888,\"#fdca26\"],[1.0,\"#f0f921\"]]}],\"contourcarpet\":[{\"type\":\"contourcarpet\",\"colorbar\":{\"outlinewidth\":0,\"ticks\":\"\"}}],\"contour\":[{\"type\":\"contour\",\"colorbar\":{\"outlinewidth\":0,\"ticks\":\"\"},\"colorscale\":[[0.0,\"#0d0887\"],[0.1111111111111111,\"#46039f\"],[0.2222222222222222,\"#7201a8\"],[0.3333333333333333,\"#9c179e\"],[0.4444444444444444,\"#bd3786\"],[0.5555555555555556,\"#d8576b\"],[0.6666666666666666,\"#ed7953\"],[0.7777777777777778,\"#fb9f3a\"],[0.8888888888888888,\"#fdca26\"],[1.0,\"#f0f921\"]]}],\"surface\":[{\"type\":\"surface\",\"colorbar\":{\"outlinewidth\":0,\"ticks\":\"\"},\"colorscale\":[[0.0,\"#0d0887\"],[0.1111111111111111,\"#46039f\"],[0.2222222222222222,\"#7201a8\"],[0.3333333333333333,\"#9c179e\"],[0.4444444444444444,\"#bd3786\"],[0.5555555555555556,\"#d8576b\"],[0.6666666666666666,\"#ed7953\"],[0.7777777777777778,\"#fb9f3a\"],[0.8888888888888888,\"#fdca26\"],[1.0,\"#f0f921\"]]}],\"mesh3d\":[{\"type\":\"mesh3d\",\"colorbar\":{\"outlinewidth\":0,\"ticks\":\"\"}}],\"scatter\":[{\"fillpattern\":{\"fillmode\":\"overlay\",\"size\":10,\"solidity\":0.2},\"type\":\"scatter\"}],\"parcoords\":[{\"type\":\"parcoords\",\"line\":{\"colorbar\":{\"outlinewidth\":0,\"ticks\":\"\"}}}],\"scatterpolargl\":[{\"type\":\"scatterpolargl\",\"marker\":{\"colorbar\":{\"outlinewidth\":0,\"ticks\":\"\"}}}],\"bar\":[{\"error_x\":{\"color\":\"#2a3f5f\"},\"error_y\":{\"color\":\"#2a3f5f\"},\"marker\":{\"line\":{\"color\":\"#E5ECF6\",\"width\":0.5},\"pattern\":{\"fillmode\":\"overlay\",\"size\":10,\"solidity\":0.2}},\"type\":\"bar\"}],\"scattergeo\":[{\"type\":\"scattergeo\",\"marker\":{\"colorbar\":{\"outlinewidth\":0,\"ticks\":\"\"}}}],\"scatterpolar\":[{\"type\":\"scatterpolar\",\"marker\":{\"colorbar\":{\"outlinewidth\":0,\"ticks\":\"\"}}}],\"histogram\":[{\"marker\":{\"pattern\":{\"fillmode\":\"overlay\",\"size\":10,\"solidity\":0.2}},\"type\":\"histogram\"}],\"scattergl\":[{\"type\":\"scattergl\",\"marker\":{\"colorbar\":{\"outlinewidth\":0,\"ticks\":\"\"}}}],\"scatter3d\":[{\"type\":\"scatter3d\",\"line\":{\"colorbar\":{\"outlinewidth\":0,\"ticks\":\"\"}},\"marker\":{\"colorbar\":{\"outlinewidth\":0,\"ticks\":\"\"}}}],\"scattermapbox\":[{\"type\":\"scattermapbox\",\"marker\":{\"colorbar\":{\"outlinewidth\":0,\"ticks\":\"\"}}}],\"scatterternary\":[{\"type\":\"scatterternary\",\"marker\":{\"colorbar\":{\"outlinewidth\":0,\"ticks\":\"\"}}}],\"scattercarpet\":[{\"type\":\"scattercarpet\",\"marker\":{\"colorbar\":{\"outlinewidth\":0,\"ticks\":\"\"}}}],\"carpet\":[{\"aaxis\":{\"endlinecolor\":\"#2a3f5f\",\"gridcolor\":\"white\",\"linecolor\":\"white\",\"minorgridcolor\":\"white\",\"startlinecolor\":\"#2a3f5f\"},\"baxis\":{\"endlinecolor\":\"#2a3f5f\",\"gridcolor\":\"white\",\"linecolor\":\"white\",\"minorgridcolor\":\"white\",\"startlinecolor\":\"#2a3f5f\"},\"type\":\"carpet\"}],\"table\":[{\"cells\":{\"fill\":{\"color\":\"#EBF0F8\"},\"line\":{\"color\":\"white\"}},\"header\":{\"fill\":{\"color\":\"#C8D4E3\"},\"line\":{\"color\":\"white\"}},\"type\":\"table\"}],\"barpolar\":[{\"marker\":{\"line\":{\"color\":\"#E5ECF6\",\"width\":0.5},\"pattern\":{\"fillmode\":\"overlay\",\"size\":10,\"solidity\":0.2}},\"type\":\"barpolar\"}],\"pie\":[{\"automargin\":true,\"type\":\"pie\"}]},\"layout\":{\"autotypenumbers\":\"strict\",\"colorway\":[\"#636efa\",\"#EF553B\",\"#00cc96\",\"#ab63fa\",\"#FFA15A\",\"#19d3f3\",\"#FF6692\",\"#B6E880\",\"#FF97FF\",\"#FECB52\"],\"font\":{\"color\":\"#2a3f5f\"},\"hovermode\":\"closest\",\"hoverlabel\":{\"align\":\"left\"},\"paper_bgcolor\":\"white\",\"plot_bgcolor\":\"#E5ECF6\",\"polar\":{\"bgcolor\":\"#E5ECF6\",\"angularaxis\":{\"gridcolor\":\"white\",\"linecolor\":\"white\",\"ticks\":\"\"},\"radialaxis\":{\"gridcolor\":\"white\",\"linecolor\":\"white\",\"ticks\":\"\"}},\"ternary\":{\"bgcolor\":\"#E5ECF6\",\"aaxis\":{\"gridcolor\":\"white\",\"linecolor\":\"white\",\"ticks\":\"\"},\"baxis\":{\"gridcolor\":\"white\",\"linecolor\":\"white\",\"ticks\":\"\"},\"caxis\":{\"gridcolor\":\"white\",\"linecolor\":\"white\",\"ticks\":\"\"}},\"coloraxis\":{\"colorbar\":{\"outlinewidth\":0,\"ticks\":\"\"}},\"colorscale\":{\"sequential\":[[0.0,\"#0d0887\"],[0.1111111111111111,\"#46039f\"],[0.2222222222222222,\"#7201a8\"],[0.3333333333333333,\"#9c179e\"],[0.4444444444444444,\"#bd3786\"],[0.5555555555555556,\"#d8576b\"],[0.6666666666666666,\"#ed7953\"],[0.7777777777777778,\"#fb9f3a\"],[0.8888888888888888,\"#fdca26\"],[1.0,\"#f0f921\"]],\"sequentialminus\":[[0.0,\"#0d0887\"],[0.1111111111111111,\"#46039f\"],[0.2222222222222222,\"#7201a8\"],[0.3333333333333333,\"#9c179e\"],[0.4444444444444444,\"#bd3786\"],[0.5555555555555556,\"#d8576b\"],[0.6666666666666666,\"#ed7953\"],[0.7777777777777778,\"#fb9f3a\"],[0.8888888888888888,\"#fdca26\"],[1.0,\"#f0f921\"]],\"diverging\":[[0,\"#8e0152\"],[0.1,\"#c51b7d\"],[0.2,\"#de77ae\"],[0.3,\"#f1b6da\"],[0.4,\"#fde0ef\"],[0.5,\"#f7f7f7\"],[0.6,\"#e6f5d0\"],[0.7,\"#b8e186\"],[0.8,\"#7fbc41\"],[0.9,\"#4d9221\"],[1,\"#276419\"]]},\"xaxis\":{\"gridcolor\":\"white\",\"linecolor\":\"white\",\"ticks\":\"\",\"title\":{\"standoff\":15},\"zerolinecolor\":\"white\",\"automargin\":true,\"zerolinewidth\":2},\"yaxis\":{\"gridcolor\":\"white\",\"linecolor\":\"white\",\"ticks\":\"\",\"title\":{\"standoff\":15},\"zerolinecolor\":\"white\",\"automargin\":true,\"zerolinewidth\":2},\"scene\":{\"xaxis\":{\"backgroundcolor\":\"#E5ECF6\",\"gridcolor\":\"white\",\"linecolor\":\"white\",\"showbackground\":true,\"ticks\":\"\",\"zerolinecolor\":\"white\",\"gridwidth\":2},\"yaxis\":{\"backgroundcolor\":\"#E5ECF6\",\"gridcolor\":\"white\",\"linecolor\":\"white\",\"showbackground\":true,\"ticks\":\"\",\"zerolinecolor\":\"white\",\"gridwidth\":2},\"zaxis\":{\"backgroundcolor\":\"#E5ECF6\",\"gridcolor\":\"white\",\"linecolor\":\"white\",\"showbackground\":true,\"ticks\":\"\",\"zerolinecolor\":\"white\",\"gridwidth\":2}},\"shapedefaults\":{\"line\":{\"color\":\"#2a3f5f\"}},\"annotationdefaults\":{\"arrowcolor\":\"#2a3f5f\",\"arrowhead\":0,\"arrowwidth\":1},\"geo\":{\"bgcolor\":\"white\",\"landcolor\":\"#E5ECF6\",\"subunitcolor\":\"white\",\"showland\":true,\"showlakes\":true,\"lakecolor\":\"white\"},\"title\":{\"x\":0.05},\"mapbox\":{\"style\":\"light\"}}},\"legend\":{\"tracegroupgap\":0},\"title\":{\"text\":\"Distribution of Gender\"}},                        {\"responsive\": true}                    ).then(function(){\n",
       "                            \n",
       "var gd = document.getElementById('853f9a77-c780-4635-a100-d5db068d690d');\n",
       "var x = new MutationObserver(function (mutations, observer) {{\n",
       "        var display = window.getComputedStyle(gd).display;\n",
       "        if (!display || display === 'none') {{\n",
       "            console.log([gd, 'removed!']);\n",
       "            Plotly.purge(gd);\n",
       "            observer.disconnect();\n",
       "        }}\n",
       "}});\n",
       "\n",
       "// Listen for the removal of the full notebook cells\n",
       "var notebookContainer = gd.closest('#notebook-container');\n",
       "if (notebookContainer) {{\n",
       "    x.observe(notebookContainer, {childList: true});\n",
       "}}\n",
       "\n",
       "// Listen for the clearing of the current output cell\n",
       "var outputEl = gd.closest('.output');\n",
       "if (outputEl) {{\n",
       "    x.observe(outputEl, {childList: true});\n",
       "}}\n",
       "\n",
       "                        })                };                });            </script>        </div>"
      ]
     },
     "metadata": {},
     "output_type": "display_data"
    }
   ],
   "source": [
    "import plotly.express as px\n",
    "gender = data.gender.value_counts()\n",
    "fig = px.pie(data, values=gender.values, names=gender.index, title='Distribution of Gender')\n",
    "fig.show()"
   ]
  },
  {
   "cell_type": "code",
   "execution_count": 28,
   "id": "46fdfaa1",
   "metadata": {
    "execution": {
     "iopub.execute_input": "2022-12-25T14:53:50.741421Z",
     "iopub.status.busy": "2022-12-25T14:53:50.740978Z",
     "iopub.status.idle": "2022-12-25T14:53:50.769729Z",
     "shell.execute_reply": "2022-12-25T14:53:50.768683Z"
    },
    "papermill": {
     "duration": 0.04611,
     "end_time": "2022-12-25T14:53:50.772866",
     "exception": false,
     "start_time": "2022-12-25T14:53:50.726756",
     "status": "completed"
    },
    "tags": []
   },
   "outputs": [
    {
     "data": {
      "text/html": [
       "<div>                            <div id=\"88c1f2ba-4f30-43f8-af16-892f59c34480\" class=\"plotly-graph-div\" style=\"height:525px; width:100%;\"></div>            <script type=\"text/javascript\">                require([\"plotly\"], function(Plotly) {                    window.PLOTLYENV=window.PLOTLYENV || {};                                    if (document.getElementById(\"88c1f2ba-4f30-43f8-af16-892f59c34480\")) {                    Plotly.newPlot(                        \"88c1f2ba-4f30-43f8-af16-892f59c34480\",                        [{\"x\":[\"pooja\",\"jyoti\",\"poonam\",\"deepak\",\"sunita\",\"neha\",\"priyanka\",\"mamta\",\"suman\",\"seema\",\"rahul\",\"rekha\",\"nisha\",\"laxmi\",\"kavita\",\"komal\",\"anita\",\"kajal\",\"aarti\",\"pinki\"],\"y\":[353,201,148,137,136,129,123,117,116,111,111,110,109,98,97,95,94,94,93,90],\"type\":\"bar\"}],                        {\"template\":{\"data\":{\"histogram2dcontour\":[{\"type\":\"histogram2dcontour\",\"colorbar\":{\"outlinewidth\":0,\"ticks\":\"\"},\"colorscale\":[[0.0,\"#0d0887\"],[0.1111111111111111,\"#46039f\"],[0.2222222222222222,\"#7201a8\"],[0.3333333333333333,\"#9c179e\"],[0.4444444444444444,\"#bd3786\"],[0.5555555555555556,\"#d8576b\"],[0.6666666666666666,\"#ed7953\"],[0.7777777777777778,\"#fb9f3a\"],[0.8888888888888888,\"#fdca26\"],[1.0,\"#f0f921\"]]}],\"choropleth\":[{\"type\":\"choropleth\",\"colorbar\":{\"outlinewidth\":0,\"ticks\":\"\"}}],\"histogram2d\":[{\"type\":\"histogram2d\",\"colorbar\":{\"outlinewidth\":0,\"ticks\":\"\"},\"colorscale\":[[0.0,\"#0d0887\"],[0.1111111111111111,\"#46039f\"],[0.2222222222222222,\"#7201a8\"],[0.3333333333333333,\"#9c179e\"],[0.4444444444444444,\"#bd3786\"],[0.5555555555555556,\"#d8576b\"],[0.6666666666666666,\"#ed7953\"],[0.7777777777777778,\"#fb9f3a\"],[0.8888888888888888,\"#fdca26\"],[1.0,\"#f0f921\"]]}],\"heatmap\":[{\"type\":\"heatmap\",\"colorbar\":{\"outlinewidth\":0,\"ticks\":\"\"},\"colorscale\":[[0.0,\"#0d0887\"],[0.1111111111111111,\"#46039f\"],[0.2222222222222222,\"#7201a8\"],[0.3333333333333333,\"#9c179e\"],[0.4444444444444444,\"#bd3786\"],[0.5555555555555556,\"#d8576b\"],[0.6666666666666666,\"#ed7953\"],[0.7777777777777778,\"#fb9f3a\"],[0.8888888888888888,\"#fdca26\"],[1.0,\"#f0f921\"]]}],\"heatmapgl\":[{\"type\":\"heatmapgl\",\"colorbar\":{\"outlinewidth\":0,\"ticks\":\"\"},\"colorscale\":[[0.0,\"#0d0887\"],[0.1111111111111111,\"#46039f\"],[0.2222222222222222,\"#7201a8\"],[0.3333333333333333,\"#9c179e\"],[0.4444444444444444,\"#bd3786\"],[0.5555555555555556,\"#d8576b\"],[0.6666666666666666,\"#ed7953\"],[0.7777777777777778,\"#fb9f3a\"],[0.8888888888888888,\"#fdca26\"],[1.0,\"#f0f921\"]]}],\"contourcarpet\":[{\"type\":\"contourcarpet\",\"colorbar\":{\"outlinewidth\":0,\"ticks\":\"\"}}],\"contour\":[{\"type\":\"contour\",\"colorbar\":{\"outlinewidth\":0,\"ticks\":\"\"},\"colorscale\":[[0.0,\"#0d0887\"],[0.1111111111111111,\"#46039f\"],[0.2222222222222222,\"#7201a8\"],[0.3333333333333333,\"#9c179e\"],[0.4444444444444444,\"#bd3786\"],[0.5555555555555556,\"#d8576b\"],[0.6666666666666666,\"#ed7953\"],[0.7777777777777778,\"#fb9f3a\"],[0.8888888888888888,\"#fdca26\"],[1.0,\"#f0f921\"]]}],\"surface\":[{\"type\":\"surface\",\"colorbar\":{\"outlinewidth\":0,\"ticks\":\"\"},\"colorscale\":[[0.0,\"#0d0887\"],[0.1111111111111111,\"#46039f\"],[0.2222222222222222,\"#7201a8\"],[0.3333333333333333,\"#9c179e\"],[0.4444444444444444,\"#bd3786\"],[0.5555555555555556,\"#d8576b\"],[0.6666666666666666,\"#ed7953\"],[0.7777777777777778,\"#fb9f3a\"],[0.8888888888888888,\"#fdca26\"],[1.0,\"#f0f921\"]]}],\"mesh3d\":[{\"type\":\"mesh3d\",\"colorbar\":{\"outlinewidth\":0,\"ticks\":\"\"}}],\"scatter\":[{\"fillpattern\":{\"fillmode\":\"overlay\",\"size\":10,\"solidity\":0.2},\"type\":\"scatter\"}],\"parcoords\":[{\"type\":\"parcoords\",\"line\":{\"colorbar\":{\"outlinewidth\":0,\"ticks\":\"\"}}}],\"scatterpolargl\":[{\"type\":\"scatterpolargl\",\"marker\":{\"colorbar\":{\"outlinewidth\":0,\"ticks\":\"\"}}}],\"bar\":[{\"error_x\":{\"color\":\"#2a3f5f\"},\"error_y\":{\"color\":\"#2a3f5f\"},\"marker\":{\"line\":{\"color\":\"#E5ECF6\",\"width\":0.5},\"pattern\":{\"fillmode\":\"overlay\",\"size\":10,\"solidity\":0.2}},\"type\":\"bar\"}],\"scattergeo\":[{\"type\":\"scattergeo\",\"marker\":{\"colorbar\":{\"outlinewidth\":0,\"ticks\":\"\"}}}],\"scatterpolar\":[{\"type\":\"scatterpolar\",\"marker\":{\"colorbar\":{\"outlinewidth\":0,\"ticks\":\"\"}}}],\"histogram\":[{\"marker\":{\"pattern\":{\"fillmode\":\"overlay\",\"size\":10,\"solidity\":0.2}},\"type\":\"histogram\"}],\"scattergl\":[{\"type\":\"scattergl\",\"marker\":{\"colorbar\":{\"outlinewidth\":0,\"ticks\":\"\"}}}],\"scatter3d\":[{\"type\":\"scatter3d\",\"line\":{\"colorbar\":{\"outlinewidth\":0,\"ticks\":\"\"}},\"marker\":{\"colorbar\":{\"outlinewidth\":0,\"ticks\":\"\"}}}],\"scattermapbox\":[{\"type\":\"scattermapbox\",\"marker\":{\"colorbar\":{\"outlinewidth\":0,\"ticks\":\"\"}}}],\"scatterternary\":[{\"type\":\"scatterternary\",\"marker\":{\"colorbar\":{\"outlinewidth\":0,\"ticks\":\"\"}}}],\"scattercarpet\":[{\"type\":\"scattercarpet\",\"marker\":{\"colorbar\":{\"outlinewidth\":0,\"ticks\":\"\"}}}],\"carpet\":[{\"aaxis\":{\"endlinecolor\":\"#2a3f5f\",\"gridcolor\":\"white\",\"linecolor\":\"white\",\"minorgridcolor\":\"white\",\"startlinecolor\":\"#2a3f5f\"},\"baxis\":{\"endlinecolor\":\"#2a3f5f\",\"gridcolor\":\"white\",\"linecolor\":\"white\",\"minorgridcolor\":\"white\",\"startlinecolor\":\"#2a3f5f\"},\"type\":\"carpet\"}],\"table\":[{\"cells\":{\"fill\":{\"color\":\"#EBF0F8\"},\"line\":{\"color\":\"white\"}},\"header\":{\"fill\":{\"color\":\"#C8D4E3\"},\"line\":{\"color\":\"white\"}},\"type\":\"table\"}],\"barpolar\":[{\"marker\":{\"line\":{\"color\":\"#E5ECF6\",\"width\":0.5},\"pattern\":{\"fillmode\":\"overlay\",\"size\":10,\"solidity\":0.2}},\"type\":\"barpolar\"}],\"pie\":[{\"automargin\":true,\"type\":\"pie\"}]},\"layout\":{\"autotypenumbers\":\"strict\",\"colorway\":[\"#636efa\",\"#EF553B\",\"#00cc96\",\"#ab63fa\",\"#FFA15A\",\"#19d3f3\",\"#FF6692\",\"#B6E880\",\"#FF97FF\",\"#FECB52\"],\"font\":{\"color\":\"#2a3f5f\"},\"hovermode\":\"closest\",\"hoverlabel\":{\"align\":\"left\"},\"paper_bgcolor\":\"white\",\"plot_bgcolor\":\"#E5ECF6\",\"polar\":{\"bgcolor\":\"#E5ECF6\",\"angularaxis\":{\"gridcolor\":\"white\",\"linecolor\":\"white\",\"ticks\":\"\"},\"radialaxis\":{\"gridcolor\":\"white\",\"linecolor\":\"white\",\"ticks\":\"\"}},\"ternary\":{\"bgcolor\":\"#E5ECF6\",\"aaxis\":{\"gridcolor\":\"white\",\"linecolor\":\"white\",\"ticks\":\"\"},\"baxis\":{\"gridcolor\":\"white\",\"linecolor\":\"white\",\"ticks\":\"\"},\"caxis\":{\"gridcolor\":\"white\",\"linecolor\":\"white\",\"ticks\":\"\"}},\"coloraxis\":{\"colorbar\":{\"outlinewidth\":0,\"ticks\":\"\"}},\"colorscale\":{\"sequential\":[[0.0,\"#0d0887\"],[0.1111111111111111,\"#46039f\"],[0.2222222222222222,\"#7201a8\"],[0.3333333333333333,\"#9c179e\"],[0.4444444444444444,\"#bd3786\"],[0.5555555555555556,\"#d8576b\"],[0.6666666666666666,\"#ed7953\"],[0.7777777777777778,\"#fb9f3a\"],[0.8888888888888888,\"#fdca26\"],[1.0,\"#f0f921\"]],\"sequentialminus\":[[0.0,\"#0d0887\"],[0.1111111111111111,\"#46039f\"],[0.2222222222222222,\"#7201a8\"],[0.3333333333333333,\"#9c179e\"],[0.4444444444444444,\"#bd3786\"],[0.5555555555555556,\"#d8576b\"],[0.6666666666666666,\"#ed7953\"],[0.7777777777777778,\"#fb9f3a\"],[0.8888888888888888,\"#fdca26\"],[1.0,\"#f0f921\"]],\"diverging\":[[0,\"#8e0152\"],[0.1,\"#c51b7d\"],[0.2,\"#de77ae\"],[0.3,\"#f1b6da\"],[0.4,\"#fde0ef\"],[0.5,\"#f7f7f7\"],[0.6,\"#e6f5d0\"],[0.7,\"#b8e186\"],[0.8,\"#7fbc41\"],[0.9,\"#4d9221\"],[1,\"#276419\"]]},\"xaxis\":{\"gridcolor\":\"white\",\"linecolor\":\"white\",\"ticks\":\"\",\"title\":{\"standoff\":15},\"zerolinecolor\":\"white\",\"automargin\":true,\"zerolinewidth\":2},\"yaxis\":{\"gridcolor\":\"white\",\"linecolor\":\"white\",\"ticks\":\"\",\"title\":{\"standoff\":15},\"zerolinecolor\":\"white\",\"automargin\":true,\"zerolinewidth\":2},\"scene\":{\"xaxis\":{\"backgroundcolor\":\"#E5ECF6\",\"gridcolor\":\"white\",\"linecolor\":\"white\",\"showbackground\":true,\"ticks\":\"\",\"zerolinecolor\":\"white\",\"gridwidth\":2},\"yaxis\":{\"backgroundcolor\":\"#E5ECF6\",\"gridcolor\":\"white\",\"linecolor\":\"white\",\"showbackground\":true,\"ticks\":\"\",\"zerolinecolor\":\"white\",\"gridwidth\":2},\"zaxis\":{\"backgroundcolor\":\"#E5ECF6\",\"gridcolor\":\"white\",\"linecolor\":\"white\",\"showbackground\":true,\"ticks\":\"\",\"zerolinecolor\":\"white\",\"gridwidth\":2}},\"shapedefaults\":{\"line\":{\"color\":\"#2a3f5f\"}},\"annotationdefaults\":{\"arrowcolor\":\"#2a3f5f\",\"arrowhead\":0,\"arrowwidth\":1},\"geo\":{\"bgcolor\":\"white\",\"landcolor\":\"#E5ECF6\",\"subunitcolor\":\"white\",\"showland\":true,\"showlakes\":true,\"lakecolor\":\"white\"},\"title\":{\"x\":0.05},\"mapbox\":{\"style\":\"light\"}}},\"title\":{\"text\":\"Top 50 Repeated Names and their count\"}},                        {\"responsive\": true}                    ).then(function(){\n",
       "                            \n",
       "var gd = document.getElementById('88c1f2ba-4f30-43f8-af16-892f59c34480');\n",
       "var x = new MutationObserver(function (mutations, observer) {{\n",
       "        var display = window.getComputedStyle(gd).display;\n",
       "        if (!display || display === 'none') {{\n",
       "            console.log([gd, 'removed!']);\n",
       "            Plotly.purge(gd);\n",
       "            observer.disconnect();\n",
       "        }}\n",
       "}});\n",
       "\n",
       "// Listen for the removal of the full notebook cells\n",
       "var notebookContainer = gd.closest('#notebook-container');\n",
       "if (notebookContainer) {{\n",
       "    x.observe(notebookContainer, {childList: true});\n",
       "}}\n",
       "\n",
       "// Listen for the clearing of the current output cell\n",
       "var outputEl = gd.closest('.output');\n",
       "if (outputEl) {{\n",
       "    x.observe(outputEl, {childList: true});\n",
       "}}\n",
       "\n",
       "                        })                };                });            </script>        </div>"
      ]
     },
     "metadata": {},
     "output_type": "display_data"
    }
   ],
   "source": [
    "name = data.name.value_counts()\n",
    "import plotly.graph_objects as go\n",
    "fig = go.Figure([go.Bar(x=name.index[:20], y=name.values[:20])])\n",
    "fig.update_layout(title_text=\"Top 50 Repeated Names and their count\")\n",
    "fig.show()"
   ]
  },
  {
   "cell_type": "code",
   "execution_count": 29,
   "id": "89379720",
   "metadata": {
    "execution": {
     "iopub.execute_input": "2022-12-25T14:53:50.801567Z",
     "iopub.status.busy": "2022-12-25T14:53:50.801134Z",
     "iopub.status.idle": "2022-12-25T14:53:50.814297Z",
     "shell.execute_reply": "2022-12-25T14:53:50.813015Z"
    },
    "papermill": {
     "duration": 0.030746,
     "end_time": "2022-12-25T14:53:50.817012",
     "exception": false,
     "start_time": "2022-12-25T14:53:50.786266",
     "status": "completed"
    },
    "tags": []
   },
   "outputs": [],
   "source": [
    "# Splitting data into training and testing:\n",
    "data=data.sample(frac=1)\n",
    "train_size = int(len(data)*.8)\n",
    "train_data = data[:train_size]\n",
    "test_data = data[train_size:]"
   ]
  },
  {
   "cell_type": "code",
   "execution_count": 30,
   "id": "09bc116c",
   "metadata": {
    "execution": {
     "iopub.execute_input": "2022-12-25T14:53:50.845187Z",
     "iopub.status.busy": "2022-12-25T14:53:50.843880Z",
     "iopub.status.idle": "2022-12-25T14:53:50.999562Z",
     "shell.execute_reply": "2022-12-25T14:53:50.998012Z"
    },
    "papermill": {
     "duration": 0.172989,
     "end_time": "2022-12-25T14:53:51.002682",
     "exception": false,
     "start_time": "2022-12-25T14:53:50.829693",
     "status": "completed"
    },
    "tags": []
   },
   "outputs": [],
   "source": [
    "# # Creating a vocabulary of the characters from all the given names:\n",
    "all_chars = [t for text  in data['name'] for t in text if text is not None] \n",
    "char_count = Counter(all_chars)\n",
    "name_char_vocab = vocab(char_count)"
   ]
  },
  {
   "cell_type": "code",
   "execution_count": 31,
   "id": "98abffdf",
   "metadata": {
    "execution": {
     "iopub.execute_input": "2022-12-25T14:53:51.032390Z",
     "iopub.status.busy": "2022-12-25T14:53:51.031863Z",
     "iopub.status.idle": "2022-12-25T14:53:51.044577Z",
     "shell.execute_reply": "2022-12-25T14:53:51.043326Z"
    },
    "papermill": {
     "duration": 0.032417,
     "end_time": "2022-12-25T14:53:51.047696",
     "exception": false,
     "start_time": "2022-12-25T14:53:51.015279",
     "status": "completed"
    },
    "tags": []
   },
   "outputs": [],
   "source": [
    "class NamesDataset(Dataset):\n",
    "    \n",
    "    def __init__(self,data,name_char_vocab):\n",
    "        self.data=data\n",
    "        self.name_char_vocab=name_char_vocab\n",
    "        self.gender_dict = {'m':0, 'f':1}\n",
    "        self.rev_gender_dict = {v:k for k,v in self.gender_dict.items()}\n",
    "        \n",
    "        \n",
    "    def __len__(self):\n",
    "        return len(self.data)\n",
    "    \n",
    "    def __getitem__(self, idx):\n",
    "        item = self.data.iloc[idx, :]\n",
    "        label = torch.zeros(2)\n",
    "        label[self.gender_dict[item['gender']]] = 1\n",
    "        name = self.get_names_tensor(item['name'])\n",
    "        return name, torch.tensor(self.gender_dict[item['gender']])\n",
    "    \n",
    "    def get_names_tensor(self, name ):\n",
    "        name_ids = self.name_char_vocab.lookup_indices([t for t in  name])\n",
    "        name_tensor = torch.as_tensor(name_ids, dtype = int)\n",
    "        return name_tensor\n",
    "    \n",
    "    def get_category_from_idx(self, idx ):\n",
    "        \n",
    "        return self.rev_gender_dict[idx]\n",
    "    \n",
    "train_ds = NamesDataset(train_data,name_char_vocab)\n",
    "\n",
    "# Demo:\n",
    "#train_ds.get_names_tensor('meet')"
   ]
  },
  {
   "cell_type": "code",
   "execution_count": 32,
   "id": "6e716427",
   "metadata": {
    "execution": {
     "iopub.execute_input": "2022-12-25T14:53:51.078313Z",
     "iopub.status.busy": "2022-12-25T14:53:51.077511Z",
     "iopub.status.idle": "2022-12-25T14:53:51.085476Z",
     "shell.execute_reply": "2022-12-25T14:53:51.084233Z"
    },
    "papermill": {
     "duration": 0.027363,
     "end_time": "2022-12-25T14:53:51.088429",
     "exception": false,
     "start_time": "2022-12-25T14:53:51.061066",
     "status": "completed"
    },
    "tags": []
   },
   "outputs": [],
   "source": [
    "class NamesClassifier(nn.Module):\n",
    "    \n",
    "    def __init__(self, size):\n",
    "        super(NamesClassifier, self).__init__()\n",
    "        self.embedding = nn.Embedding(size,128)\n",
    "        self.rnn = nn.LSTM(128,256)\n",
    "        self.linear1 = nn.Linear(256,256)\n",
    "        self.relu1= nn.ReLU()\n",
    "        self.linear2 = nn.Linear(256,2)\n",
    "    \n",
    "    def forward(self, ip):\n",
    "        op= self.embedding(ip)\n",
    "        op, hi = self.rnn(op)\n",
    "        output = self.linear1(hi[0])\n",
    "        output = self.relu1(output)\n",
    "        output = self.linear2(output)\n",
    "        return output"
   ]
  },
  {
   "cell_type": "code",
   "execution_count": 33,
   "id": "2eaab587",
   "metadata": {
    "execution": {
     "iopub.execute_input": "2022-12-25T14:53:51.116406Z",
     "iopub.status.busy": "2022-12-25T14:53:51.115873Z",
     "iopub.status.idle": "2022-12-25T14:53:51.136593Z",
     "shell.execute_reply": "2022-12-25T14:53:51.135182Z"
    },
    "papermill": {
     "duration": 0.038046,
     "end_time": "2022-12-25T14:53:51.139763",
     "exception": false,
     "start_time": "2022-12-25T14:53:51.101717",
     "status": "completed"
    },
    "tags": []
   },
   "outputs": [],
   "source": [
    "def predict(name, model1):\n",
    "    try:\n",
    "        names_tensor = train_ds.get_names_tensor(name)\n",
    "        output = model1(names_tensor)\n",
    "        category_idx = output.topk(1)[1].item()\n",
    "        category = train_ds.get_category_from_idx(category_idx)\n",
    "        return category\n",
    "    except:\n",
    "        pass\n",
    "model = NamesClassifier(len(train_ds.name_char_vocab))"
   ]
  },
  {
   "cell_type": "code",
   "execution_count": 34,
   "id": "c9f56da8",
   "metadata": {
    "execution": {
     "iopub.execute_input": "2022-12-25T14:53:51.169350Z",
     "iopub.status.busy": "2022-12-25T14:53:51.168171Z",
     "iopub.status.idle": "2022-12-25T14:57:07.238874Z",
     "shell.execute_reply": "2022-12-25T14:57:07.237663Z"
    },
    "papermill": {
     "duration": 196.088911,
     "end_time": "2022-12-25T14:57:07.241768",
     "exception": false,
     "start_time": "2022-12-25T14:53:51.152857",
     "status": "completed"
    },
    "tags": []
   },
   "outputs": [
    {
     "name": "stdout",
     "output_type": "stream",
     "text": [
      "tensor(529.9967, grad_fn=<AddBackward0>)\n",
      "tensor(495.1254, grad_fn=<AddBackward0>)\n",
      "tensor(434.4978, grad_fn=<AddBackward0>)\n",
      "tensor(369.9837, grad_fn=<AddBackward0>)\n",
      "tensor(372.1033, grad_fn=<AddBackward0>)\n",
      "tensor(307.5483, grad_fn=<AddBackward0>)\n",
      "tensor(311.8121, grad_fn=<AddBackward0>)\n",
      "tensor(241.7601, grad_fn=<AddBackward0>)\n",
      "tensor(291.6285, grad_fn=<AddBackward0>)\n",
      "tensor(249.7959, grad_fn=<AddBackward0>)\n",
      "tensor(270.8553, grad_fn=<AddBackward0>)\n",
      "tensor(247.5336, grad_fn=<AddBackward0>)\n",
      "tensor(265.9770, grad_fn=<AddBackward0>)\n",
      "tensor(249.2163, grad_fn=<AddBackward0>)\n",
      "tensor(227.5864, grad_fn=<AddBackward0>)\n",
      "tensor(272.6720, grad_fn=<AddBackward0>)\n",
      "tensor(247.3043, grad_fn=<AddBackward0>)\n",
      "tensor(202.1703, grad_fn=<AddBackward0>)\n",
      "tensor(252.3226, grad_fn=<AddBackward0>)\n",
      "tensor(246.3786, grad_fn=<AddBackward0>)\n",
      "tensor(243.1133, grad_fn=<AddBackward0>)\n",
      "tensor(247.8569, grad_fn=<AddBackward0>)\n",
      "tensor(211.7922, grad_fn=<AddBackward0>)\n",
      "tensor(250.4839, grad_fn=<AddBackward0>)\n"
     ]
    }
   ],
   "source": [
    "# We need a loss function as criteria and an optimizer to train our model:\n",
    "\n",
    "criteria = nn.CrossEntropyLoss()\n",
    "optimizer =  torch.optim.Adam(model.parameters())\n",
    "num_step= len(train_ds)\n",
    "step =0\n",
    "total_loss=0\n",
    "for  i in range(0, train_size):\n",
    "    try:\n",
    "        name_ip, label = train_ds[i]\n",
    "        step=step+1\n",
    "        optimizer.zero_grad()\n",
    "        op= model(name_ip)\n",
    "        loss = criteria(op.squeeze(), label)\n",
    "        loss.backward()\n",
    "        optimizer.step()\n",
    "        total_loss=loss+total_loss\n",
    "        if step%1000==0:\n",
    "            print(total_loss)\n",
    "            total_loss=0\n",
    "    except:\n",
    "        pass"
   ]
  },
  {
   "cell_type": "code",
   "execution_count": 35,
   "id": "f6b3feb1",
   "metadata": {
    "execution": {
     "iopub.execute_input": "2022-12-25T14:57:07.273305Z",
     "iopub.status.busy": "2022-12-25T14:57:07.272858Z",
     "iopub.status.idle": "2022-12-25T14:57:07.287636Z",
     "shell.execute_reply": "2022-12-25T14:57:07.286169Z"
    },
    "papermill": {
     "duration": 0.035245,
     "end_time": "2022-12-25T14:57:07.291762",
     "exception": false,
     "start_time": "2022-12-25T14:57:07.256517",
     "status": "completed"
    },
    "tags": []
   },
   "outputs": [],
   "source": [
    "# Saving Model for later use:\n",
    "# Specify a path\n",
    "PATH = \"state_dict_model.pt\"\n",
    "\n",
    "# Save\n",
    "torch.save(model.state_dict(), PATH)"
   ]
  },
  {
   "cell_type": "code",
   "execution_count": 36,
   "id": "ecfb3a65",
   "metadata": {
    "execution": {
     "iopub.execute_input": "2022-12-25T14:57:07.324942Z",
     "iopub.status.busy": "2022-12-25T14:57:07.324078Z",
     "iopub.status.idle": "2022-12-25T14:57:14.399678Z",
     "shell.execute_reply": "2022-12-25T14:57:14.398128Z"
    },
    "papermill": {
     "duration": 7.09535,
     "end_time": "2022-12-25T14:57:14.403069",
     "exception": false,
     "start_time": "2022-12-25T14:57:07.307719",
     "status": "completed"
    },
    "tags": []
   },
   "outputs": [],
   "source": [
    "predicted = [predict(n, model) for n in test_data.name]"
   ]
  },
  {
   "cell_type": "code",
   "execution_count": 37,
   "id": "5d6dfe2b",
   "metadata": {
    "execution": {
     "iopub.execute_input": "2022-12-25T14:57:14.434166Z",
     "iopub.status.busy": "2022-12-25T14:57:14.433014Z",
     "iopub.status.idle": "2022-12-25T14:57:21.350276Z",
     "shell.execute_reply": "2022-12-25T14:57:21.348577Z"
    },
    "papermill": {
     "duration": 6.936399,
     "end_time": "2022-12-25T14:57:21.354135",
     "exception": false,
     "start_time": "2022-12-25T14:57:14.417736",
     "status": "completed"
    },
    "tags": []
   },
   "outputs": [
    {
     "name": "stderr",
     "output_type": "stream",
     "text": [
      "/opt/conda/lib/python3.7/site-packages/ipykernel_launcher.py:1: SettingWithCopyWarning:\n",
      "\n",
      "\n",
      "A value is trying to be set on a copy of a slice from a DataFrame.\n",
      "Try using .loc[row_indexer,col_indexer] = value instead\n",
      "\n",
      "See the caveats in the documentation: https://pandas.pydata.org/pandas-docs/stable/user_guide/indexing.html#returning-a-view-versus-a-copy\n",
      "\n"
     ]
    }
   ],
   "source": [
    "test_data['predicted'] = test_data.name.apply(lambda x: predict(x, model))"
   ]
  },
  {
   "cell_type": "code",
   "execution_count": 38,
   "id": "9a26a1be",
   "metadata": {
    "execution": {
     "iopub.execute_input": "2022-12-25T14:57:21.384027Z",
     "iopub.status.busy": "2022-12-25T14:57:21.383592Z",
     "iopub.status.idle": "2022-12-25T14:57:28.542374Z",
     "shell.execute_reply": "2022-12-25T14:57:28.541176Z"
    },
    "papermill": {
     "duration": 7.17784,
     "end_time": "2022-12-25T14:57:28.546260",
     "exception": false,
     "start_time": "2022-12-25T14:57:21.368420",
     "status": "completed"
    },
    "tags": []
   },
   "outputs": [
    {
     "name": "stderr",
     "output_type": "stream",
     "text": [
      "/opt/conda/lib/python3.7/site-packages/ipykernel_launcher.py:1: SettingWithCopyWarning:\n",
      "\n",
      "\n",
      "A value is trying to be set on a copy of a slice from a DataFrame.\n",
      "Try using .loc[row_indexer,col_indexer] = value instead\n",
      "\n",
      "See the caveats in the documentation: https://pandas.pydata.org/pandas-docs/stable/user_guide/indexing.html#returning-a-view-versus-a-copy\n",
      "\n"
     ]
    }
   ],
   "source": [
    "test_data['predicted'] = test_data.name.apply(lambda x: predict(x, model))"
   ]
  },
  {
   "cell_type": "code",
   "execution_count": 39,
   "id": "ce6adcb7",
   "metadata": {
    "execution": {
     "iopub.execute_input": "2022-12-25T14:57:28.576790Z",
     "iopub.status.busy": "2022-12-25T14:57:28.576352Z",
     "iopub.status.idle": "2022-12-25T14:57:58.218623Z",
     "shell.execute_reply": "2022-12-25T14:57:58.217246Z"
    },
    "papermill": {
     "duration": 29.661212,
     "end_time": "2022-12-25T14:57:58.222267",
     "exception": false,
     "start_time": "2022-12-25T14:57:28.561055",
     "status": "completed"
    },
    "tags": []
   },
   "outputs": [
    {
     "name": "stderr",
     "output_type": "stream",
     "text": [
      "/opt/conda/lib/python3.7/site-packages/ipykernel_launcher.py:1: SettingWithCopyWarning:\n",
      "\n",
      "\n",
      "A value is trying to be set on a copy of a slice from a DataFrame.\n",
      "Try using .loc[row_indexer,col_indexer] = value instead\n",
      "\n",
      "See the caveats in the documentation: https://pandas.pydata.org/pandas-docs/stable/user_guide/indexing.html#returning-a-view-versus-a-copy\n",
      "\n"
     ]
    }
   ],
   "source": [
    "train_data['predicted'] = train_data.name.apply(lambda x: predict(x, model))"
   ]
  },
  {
   "cell_type": "code",
   "execution_count": 40,
   "id": "379df7a0",
   "metadata": {
    "execution": {
     "iopub.execute_input": "2022-12-25T14:57:58.256101Z",
     "iopub.status.busy": "2022-12-25T14:57:58.255685Z",
     "iopub.status.idle": "2022-12-25T14:58:27.090240Z",
     "shell.execute_reply": "2022-12-25T14:58:27.087173Z"
    },
    "papermill": {
     "duration": 28.853384,
     "end_time": "2022-12-25T14:58:27.093345",
     "exception": false,
     "start_time": "2022-12-25T14:57:58.239961",
     "status": "completed"
    },
    "tags": []
   },
   "outputs": [
    {
     "name": "stderr",
     "output_type": "stream",
     "text": [
      "/opt/conda/lib/python3.7/site-packages/ipykernel_launcher.py:1: SettingWithCopyWarning:\n",
      "\n",
      "\n",
      "A value is trying to be set on a copy of a slice from a DataFrame.\n",
      "Try using .loc[row_indexer,col_indexer] = value instead\n",
      "\n",
      "See the caveats in the documentation: https://pandas.pydata.org/pandas-docs/stable/user_guide/indexing.html#returning-a-view-versus-a-copy\n",
      "\n"
     ]
    }
   ],
   "source": [
    "train_data['predicted'] = train_data.name.apply(lambda x: predict(x, model))"
   ]
  },
  {
   "cell_type": "code",
   "execution_count": 41,
   "id": "1d76e0f8",
   "metadata": {
    "execution": {
     "iopub.execute_input": "2022-12-25T14:58:27.128820Z",
     "iopub.status.busy": "2022-12-25T14:58:27.128411Z",
     "iopub.status.idle": "2022-12-25T14:58:27.164871Z",
     "shell.execute_reply": "2022-12-25T14:58:27.163571Z"
    },
    "papermill": {
     "duration": 0.057242,
     "end_time": "2022-12-25T14:58:27.168231",
     "exception": false,
     "start_time": "2022-12-25T14:58:27.110989",
     "status": "completed"
    },
    "tags": []
   },
   "outputs": [
    {
     "data": {
      "text/plain": [
       "array([[2854,  212],\n",
       "       [ 188, 2781]])"
      ]
     },
     "execution_count": 41,
     "metadata": {},
     "output_type": "execute_result"
    }
   ],
   "source": [
    "confusion_matrix(test_data.predicted, test_data.gender)"
   ]
  },
  {
   "cell_type": "code",
   "execution_count": 42,
   "id": "d609ccaf",
   "metadata": {
    "execution": {
     "iopub.execute_input": "2022-12-25T14:58:27.200310Z",
     "iopub.status.busy": "2022-12-25T14:58:27.199107Z",
     "iopub.status.idle": "2022-12-25T14:58:27.219038Z",
     "shell.execute_reply": "2022-12-25T14:58:27.217442Z"
    },
    "papermill": {
     "duration": 0.038372,
     "end_time": "2022-12-25T14:58:27.221885",
     "exception": false,
     "start_time": "2022-12-25T14:58:27.183513",
     "status": "completed"
    },
    "tags": []
   },
   "outputs": [
    {
     "data": {
      "text/plain": [
       "0.9337199668599834"
      ]
     },
     "execution_count": 42,
     "metadata": {},
     "output_type": "execute_result"
    }
   ],
   "source": [
    "accuracy_score( test_data.predicted, test_data.gender )"
   ]
  },
  {
   "cell_type": "code",
   "execution_count": 43,
   "id": "3f9d1375",
   "metadata": {
    "execution": {
     "iopub.execute_input": "2022-12-25T14:58:27.253594Z",
     "iopub.status.busy": "2022-12-25T14:58:27.253045Z",
     "iopub.status.idle": "2022-12-25T14:58:27.263558Z",
     "shell.execute_reply": "2022-12-25T14:58:27.261918Z"
    },
    "papermill": {
     "duration": 0.029887,
     "end_time": "2022-12-25T14:58:27.266740",
     "exception": false,
     "start_time": "2022-12-25T14:58:27.236853",
     "status": "completed"
    },
    "tags": []
   },
   "outputs": [
    {
     "data": {
      "text/plain": [
       "'f'"
      ]
     },
     "execution_count": 43,
     "metadata": {},
     "output_type": "execute_result"
    }
   ],
   "source": [
    "#input should be in small case\n",
    "predict('sunayana', model)"
   ]
  },
  {
   "cell_type": "code",
   "execution_count": null,
   "id": "30687b48",
   "metadata": {
    "papermill": {
     "duration": 0.015202,
     "end_time": "2022-12-25T14:58:27.298061",
     "exception": false,
     "start_time": "2022-12-25T14:58:27.282859",
     "status": "completed"
    },
    "tags": []
   },
   "outputs": [],
   "source": []
  }
 ],
 "metadata": {
  "kernelspec": {
   "display_name": "Python 3",
   "language": "python",
   "name": "python3"
  },
  "language_info": {
   "codemirror_mode": {
    "name": "ipython",
    "version": 3
   },
   "file_extension": ".py",
   "mimetype": "text/x-python",
   "name": "python",
   "nbconvert_exporter": "python",
   "pygments_lexer": "ipython3",
   "version": "3.7.12"
  },
  "papermill": {
   "default_parameters": {},
   "duration": 296.140662,
   "end_time": "2022-12-25T14:58:28.538698",
   "environment_variables": {},
   "exception": null,
   "input_path": "__notebook__.ipynb",
   "output_path": "__notebook__.ipynb",
   "parameters": {},
   "start_time": "2022-12-25T14:53:32.398036",
   "version": "2.3.4"
  }
 },
 "nbformat": 4,
 "nbformat_minor": 5
}
